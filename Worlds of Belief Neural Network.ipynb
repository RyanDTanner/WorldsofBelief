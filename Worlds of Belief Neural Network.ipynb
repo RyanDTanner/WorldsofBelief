{
 "cells": [
  {
   "cell_type": "code",
   "execution_count": 1,
   "id": "b5c35ee9",
   "metadata": {},
   "outputs": [
    {
     "name": "stdout",
     "output_type": "stream",
     "text": [
      "C:\\Users\\ryant\\tensorflow_env\n"
     ]
    }
   ],
   "source": [
    "#Welcome to the Worlds of Belief Project!\n",
    "#Below is the code for both a multivariable Deep Neural Network (DNN)\n",
    "#analyzing the joint relationship between 6 belief predictors on democracy.\n",
    "import os\n",
    "print(os.getcwd())\n",
    "\n"
   ]
  },
  {
   "cell_type": "code",
   "execution_count": null,
   "id": "6b522374",
   "metadata": {},
   "outputs": [],
   "source": []
  }
 ],
 "metadata": {
  "kernelspec": {
   "display_name": "tf_env",
   "language": "python",
   "name": "tf_env"
  },
  "language_info": {
   "codemirror_mode": {
    "name": "ipython",
    "version": 3
   },
   "file_extension": ".py",
   "mimetype": "text/x-python",
   "name": "python",
   "nbconvert_exporter": "python",
   "pygments_lexer": "ipython3",
   "version": "3.8.16"
  }
 },
 "nbformat": 4,
 "nbformat_minor": 5
}
